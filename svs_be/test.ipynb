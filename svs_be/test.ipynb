{
 "cells": [
  {
   "cell_type": "code",
   "execution_count": 1,
   "metadata": {},
   "outputs": [],
   "source": [
    "from cmath import nan\n",
    "# from unicodedata import name\n",
    "# from matplotlib import projections\n",
    "# from matplotlib.pyplot import table\n",
    "import pandas as pd\n",
    "import os\n",
    "import glob\n",
    "from pymongo import MongoClient, ASCENDING, DESCENDING, errors\n",
    "from datetime import date, timedelta, datetime, timezone\n",
    "from flask import Flask, jsonify, request, redirect, Response, send_file\n",
    "from flask_cors import CORS\n",
    "import json\n",
    "import math\n",
    "# from urllib.parse import urlparse\n",
    "# from urllib. parse import parse_qs\n",
    "from flask_cors import CORS, cross_origin\n",
    "from flask import send_from_directory\n",
    "from pandas.tseries.offsets import MonthEnd\n",
    "from werkzeug .utils import secure_filename\n",
    "from zipfile import ZipFile\n",
    "from svs_report import svsreport\n",
    "from svs_report import gen_all_letters\n",
    "from svs_report import gen_excel\n",
    "import shutil\n",
    "from bson import json_util, ObjectId"
   ]
  },
  {
   "cell_type": "code",
   "execution_count": 8,
   "metadata": {},
   "outputs": [],
   "source": [
    "\n",
    "    "
   ]
  },
  {
   "cell_type": "code",
   "execution_count": null,
   "metadata": {},
   "outputs": [],
   "source": []
  }
 ],
 "metadata": {
  "kernelspec": {
   "display_name": "Python 3",
   "language": "python",
   "name": "python3"
  },
  "language_info": {
   "codemirror_mode": {
    "name": "ipython",
    "version": 3
   },
   "file_extension": ".py",
   "mimetype": "text/x-python",
   "name": "python",
   "nbconvert_exporter": "python",
   "pygments_lexer": "ipython3",
   "version": "3.10.0"
  },
  "orig_nbformat": 4
 },
 "nbformat": 4,
 "nbformat_minor": 2
}
